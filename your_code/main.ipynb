{
 "cells": [
  {
   "cell_type": "markdown",
   "metadata": {},
   "source": [
    "## Question 1\n",
    "The following table indicates the number of 6-point scores in an American rugby match in the 1979 season.\n",
    "\n",
    "![](table1.png)\n",
    "\n",
    "Based on these results, we create a Poisson distribution with the sample mean parameter  = 2.435. Is there any reason to believe that at a .05 level the number of scores is a Poisson variable?"
   ]
  },
  {
   "cell_type": "code",
   "execution_count": 51,
   "metadata": {
    "scrolled": true
   },
   "outputs": [],
   "source": [
    "# your answer here\n",
    "# libraries\n",
    "from scipy.stats import poisson, chisquare, norm, kstest, binom\n",
    "import matplotlib.pyplot as plt\n",
    "import numpy as np\n",
    "import pandas as pd\n",
    "import this\n",
    "\n"
   ]
  },
  {
   "cell_type": "code",
   "execution_count": 60,
   "metadata": {},
   "outputs": [
    {
     "name": "stdout",
     "output_type": "stream",
     "text": [
      "We CANNOT reject the hypothesis that the number of scores is NOT a Poisson variable at a 0.05 level.\n"
     ]
    }
   ],
   "source": [
    "# setting the mu and the alpha\n",
    "mu = 2.435\n",
    "alpha = 0.05\n",
    "\n",
    "# setting the observed values\n",
    "observed = [35, 99, 104, 110, 62, 25, 10,  3]\n",
    "\n",
    "# Fitting (this might not be the right word for it...) the data to the Poisson Distribuition\n",
    "rugby = poisson(2.435)\n",
    "\n",
    "# creating the expected scores for the Poisson Distribuition\n",
    "expected = [rugby.pmf(x) * 448 for x in range(len(observed))]\n",
    "\n",
    "# Chi2 testing\n",
    "statistic, pvalue = chisquare(observed, expected)\n",
    "\n",
    "# Conclusion:\n",
    "print(f\"We CAN say that the number of scores is NOT a Poisson variable at a {alpha} level.\") \\\n",
    "if pvalue < alpha else print(f\"We CANNOT reject the hypothesis that the number of scores is NOT a Poisson variable at a {alpha} level.\")"
   ]
  },
  {
   "cell_type": "code",
   "execution_count": 50,
   "metadata": {},
   "outputs": [
    {
     "data": {
      "image/png": "[encoded data removed]",
      "text/plain": [
       "<Figure size 432x288 with 1 Axes>"
      ]
     },
     "metadata": {
      "needs_background": "light"
     },
     "output_type": "display_data"
    }
   ],
   "source": [
    "# plotting Observed vs Expected 6-point scores\n",
    "plt.plot(observed, label = \"Observed 6-point scores\")\n",
    "plt.plot(expected, label = \"Expected 6-point scores\")\n",
    "plt.legend()\n",
    "plt.show()"
   ]
  },
  {
   "cell_type": "markdown",
   "metadata": {},
   "source": [
    "## Question 2\n",
    "The following are the ordered values of a random sample of SAT scores (university entrance exam) for several students: 852, 875, 910, 933, 957, 963, 981, 998, 1010, 1015, 1018, 1023, 1035, 1048, 1063. In previous years, the scores were presented by N (985,50). Based on the sample, is there any reason to believe that there has been a change in the distribution of scores this year? Use the level alpha = 0.05. "
   ]
  },
  {
   "cell_type": "code",
   "execution_count": 65,
   "metadata": {},
   "outputs": [
    {
     "name": "stdout",
     "output_type": "stream",
     "text": [
      "We CANNOT reject the Null hypothesis at a 0.05 level.\n"
     ]
    }
   ],
   "source": [
    "#your answer here\n",
    "# setting the observed values\n",
    "SATs = [852, 875, 910, 933, 957, 963, 981, 998, 1010, 1015, 1018, 1023, 1035, 1048, 1063]\n",
    "\n",
    "# setting previous years scores by N(985, 50)\n",
    "norm_SATs = norm(985, 50)\n",
    "\n",
    "# ks testing\n",
    "statistic, pvalue = kstest(SATs, norm_SATs.cdf)\n",
    "\n",
    "# Conclusion:\n",
    "print(f\"We CAN reject the Null Hypothesis at a {alpha} level.\") \\\n",
    "if pvalue < alpha else print(f\"We CANNOT reject the Null hypothesis at a {alpha} level.\")"
   ]
  },
  {
   "cell_type": "markdown",
   "metadata": {},
   "source": [
    "## Question 3\n",
    "Let's analyze a discrete distribution. To analyze the number of defective items in a factory in the city of Medellín, we took a random sample of n = 60 articles and observed the number of defectives in the following table:\n",
    "\n",
    "![](table2.png)\n",
    "\n",
    "A poissón distribution was proposed since it is defined for x = 0,1,2,3, .... using the following model:\n",
    "\n",
    "![](image1.png)\n",
    "\n",
    "Does the distribution of defective items follow this distribution?"
   ]
  },
  {
   "cell_type": "code",
   "execution_count": 72,
   "metadata": {},
   "outputs": [
    {
     "name": "stdout",
     "output_type": "stream",
     "text": [
      "We CAN reject the Null Hypothesis at a 0.05 level.\n"
     ]
    }
   ],
   "source": [
    "# your code here\n",
    "# setting the values\n",
    "defectives = [0, 1, 3, 4]\n",
    "observed = [32, 15, 9, 4]\n",
    "\n",
    "# preparing the data for parallel processing as by: https://realpython.com/python-zip-function/\n",
    "sample = zip(defectives, observed)\n",
    "\n",
    "# calculating lambda\n",
    "this_lambda = sum([x[0] * x[1] for x in list(sample)]) / sum(observed)\n",
    "\n",
    "# creating poisson\n",
    "defective_p = poisson(this_lambda)\n",
    "\n",
    "# calculating expected\n",
    "expected = [defective_p.pmf(x) * sum(observed) for x in defectives]\n",
    "\n",
    "# Chi2 testing\n",
    "statistic, pvalue = chisquare(observed, expected)\n",
    "\n",
    "# Conclusion:\n",
    "print(f\"We CAN reject the Null Hypothesis at a {alpha} level.\") \\\n",
    "if pvalue < alpha else print(f\"We CANNOT reject the Null hypothesis at a {alpha} level.\")"
   ]
  },
  {
   "cell_type": "markdown",
   "metadata": {},
   "source": [
    "## Question 4\n",
    "A quality control engineer takes a sample of 10 tires that come out of an assembly line, and would like to verify on the basis of the data that follows, if the number of tires with defects observed over 200 days, if it is true that 5% of all tires have defects (that is, if the sample comes from a binomial population with n = 10 and p = 0.05). \n",
    "\n",
    "![](table3.png)\n"
   ]
  },
  {
   "cell_type": "code",
   "execution_count": null,
   "metadata": {},
   "outputs": [],
   "source": [
    "# your answer here"
   ]
  },
  {
   "cell_type": "markdown",
   "metadata": {},
   "source": [
    "## Question 5\n",
    "A researcher gathers information about the patterns of Physical Activity of children in the fifth grade of primary school of a public school. He defines three categories of physical activity (Low, Medium, High). He also inquires about the regular consumption of sugary drinks at school, and defines two categories (Yes = consumed, No = not consumed). We would like to evaluate if there is an association between patterns of physical activity and the consumption of sugary drinks for the children of this school, at a level of 5% significance. The results are in the following table: \n",
    "\n",
    "![](table4.png)"
   ]
  },
  {
   "cell_type": "code",
   "execution_count": null,
   "metadata": {},
   "outputs": [],
   "source": [
    "#your answer here"
   ]
  }
 ],
 "metadata": {
  "kernelspec": {
   "display_name": "Python 3",
   "language": "python",
   "name": "python3"
  },
  "language_info": {
   "codemirror_mode": {
    "name": "ipython",
    "version": 3
   },
   "file_extension": ".py",
   "mimetype": "text/x-python",
   "name": "python",
   "nbconvert_exporter": "python",
   "pygments_lexer": "ipython3",
   "version": "3.7.4"
  }
 },
 "nbformat": 4,
 "nbformat_minor": 2
}
